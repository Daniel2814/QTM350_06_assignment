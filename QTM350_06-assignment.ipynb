{
 "cells": [
  {
   "cell_type": "markdown",
   "metadata": {},
   "source": [
    "## QTM 350: Data Science Computing\n",
    "\n",
    "### Assignment 06 - AI-Assisted Programming\n",
    "\n",
    "### Due 03 March 2025"
   ]
  },
  {
   "cell_type": "markdown",
   "metadata": {},
   "source": [
    "### Instructions\n",
    "\n",
    "In this assignment, you will use AI tools to help you generate, refactor, and explain code. Ideally, use GitHub Copilot, but if you cannot install the software, feel free to use other available tools (free or otherwise). Please name the tools you use in your assignment.\n",
    "\n",
    "The main idea is to use natural language as much as possible, whilst remaining attentive to any mistakes the AI tool may produce. Your code should run without issues and provide the correct results. Please feel free to include tests and screenshots.\n",
    "\n",
    "As always, should you have any questions, please let me know.\n",
    "\n",
    "### Tasks\n",
    "\n",
    "1. Use the `/explain` command in Copilot to get an explanation of the following code snippet:\n",
    "\n",
    "```python\n",
    "def fibonacci(n):\n",
    "    if n <= 0:\n",
    "        return []\n",
    "    elif n == 1:\n",
    "        return [0]\n",
    "    elif n == 2:\n",
    "        return [0, 1]\n",
    "    else:\n",
    "        fib = [0, 1]\n",
    "        for i in range(2, n):\n",
    "            fib.append(fib[i-1] + fib[i-2])\n",
    "        return fib\n",
    "```\n",
    "\n",
    "Here's a step-by-step explanation of how the code works:\n",
    "\n",
    "The function is defined with the name fibonacci and takes a single parameter n, which represents the number of Fibonacci numbers to generate.\n",
    "\n",
    "The first if statement checks if n is less than or equal to 0. If it is, an empty list [] is returned. This is done to handle the case when n is 0 or a negative number.\n",
    "\n",
    "The second elif statement checks if n is equal to 1. If it is, a list containing only the number 0 is returned. This is done to handle the case when n is 1.\n",
    "\n",
    "The third elif statement checks if n is equal to 2. If it is, a list containing the numbers 0 and 1 is returned. This is done to handle the case when n is 2.\n",
    "\n",
    "If none of the above conditions are met, the else block is executed. This block initializes a list fib with the first two Fibonacci numbers, 0 and 1.\n",
    "\n",
    "The for loop iterates from 2 to n-1 (exclusive) using the range function. This loop calculates the remaining Fibonacci numbers by adding the last two numbers in the fib list and appending the sum to the list.\n",
    "\n",
    "Finally, the function returns the fib list, which contains the Fibonacci sequence up to the given n.\n",
    "\n",
    "To use this function, you can call it with a specific value for n and it will return the corresponding Fibonacci sequence as a list. For example, fibonacci(5) will return [0, 1, 1, 2, 3], which is the Fibonacci sequence up to the 5th number.\n",
    "\n",
    "\n",
    "\n",
    "\n",
    "3. Use Copilot to refactor the following code to improve its efficiency and readability:\n",
    "\n",
    "```python\n",
    "def is_prime(num):\n",
    "  if num <= 1:\n",
    "    return False\n",
    "  for i in range(2, int(num**0.5) + 1):\n",
    "    if num % i == 0:\n",
    "      return False\n",
    "  return True\n",
    "\n",
    "primes = [i for i in range(2, 101) if is_prime(i)]\n",
    "\n",
    "print(primes)\n",
    "```\n",
    "\n",
    "4. Use the `@terminal` command to generate CLI commands that create a new directory named `data_analysis`, navigate into the directory, create a new Python file called `analysis.py`, and add a shebang line (`#!/usr/bin/env python`) at the top of the file.\n",
    "\n",
    "%%bash\n",
    "\n",
    "\n",
    "\n",
    "5. Write a Python function that calculates the factorial of a number. Deliberately introduce an error in the function, then use Copilot's `/fix` command to identify and correct the issue.\n",
    "\n",
    "6. Use Copilot to generate documentation comments for the following `R` factorial function:\n",
    "\n",
    "```r\n",
    "calculate_factorial <- function(n) {\n",
    "  if (n == 0) {\n",
    "    return(1)\n",
    "  } else {\n",
    "    return(n * calculate_factorial(n - 1))\n",
    "  }\n",
    "}\n",
    "```\n",
    "\n",
    "7. Use the `/explain` command to get an explanation for the following Python code snippet:\n",
    "\n",
    "```python\n",
    "def normalize_data(data):\n",
    "    min_val = min(data)\n",
    "    max_val = max(data)\n",
    "    return [(x - min_val) / (max_val - min_val) for x in data]\n",
    "```\n",
    "\n",
    "8. Ask Copilot to translate the following `R` code to `Python`:\n",
    "\n",
    "```r\n",
    "library(tidyverse)\n",
    "\n",
    "# Create a sample dataframe with missing values\n",
    "df <- tibble(\n",
    "  A = c(1, 2, NA, 4, 5),\n",
    "  B = c(NA, 2, 3, 4, 5),\n",
    "  C = c(1, 2, 3, NA, 5),\n",
    "  D = c(1, 2, 3, 4, 5)\n",
    ")\n",
    "\n",
    "# Define the function\n",
    "count_missing_values <- function(df) {\n",
    "  sapply(df, function(col) sum(is.na(col)))\n",
    "}\n",
    "\n",
    "# Test the function\n",
    "result <- count_missing_values(df)\n",
    "print(result)\n",
    "```\n",
    "\n",
    "9. Write a function in both `R` and `Python` that takes a string and returns the number of vowels in the string.\n",
    "\n",
    "10. Ask Copilot to translate the following binary code into text:\n",
    "\n",
    "```verbatim\n",
    "01011001 01101111 01110101 00100111 01110110 01100101 00100000 01100011 01101111 01101101 01110000 01101100 01100101 01110100 01100101 01100100 00100000 01110100 01101000 01100101 00100000 01100001 01110011 01110011 01101001 01100111 01101110 01101101 01100101 01101110 01110100 00101110 00100000 01000011 01101111 01101110 01100111 01110010 01100001 01110100 01110101 01101100 01100001 01110100 01101001 01101111 01101110 01110011 00100001\n",
    "```\n",
    "\n"
   ]
  },
  {
   "cell_type": "markdown",
   "metadata": {},
   "source": [
    "2. Create a new Git repository using GitHub CLI and Copilot suggestions. The suggestions should include code to initialise the repository, add a `README.md` and a `.gitignore` file for Python projects, then add, commit, and push the changes to the repository. Please include the link to your repository below.\n",
    "\n",
    "# Initialize the repository\n",
    "!gh repo create my-repo\n",
    "\n",
    "# Change directory to the repository\n",
    "%cd my-repo\n",
    "\n",
    "# Create a README.md file\n",
    "!echo \"06_assignment_repo\" > README.md\n",
    "\n",
    "# Create a .gitignore file for Python projects\n",
    "!echo \"06_assignment_rep\" > .gitignore\n",
    "\n",
    "# Add all files to the repository\n",
    "!git add .\n",
    "\n",
    "# Commit the changes\n",
    "!git commit -m \"Initial commit\"\n",
    "\n",
    "# Push the changes to the repository\n",
    "!git push origin main"
   ]
  },
  {
   "cell_type": "code",
   "execution_count": 1,
   "metadata": {},
   "outputs": [],
   "source": [
    "\n"
   ]
  },
  {
   "cell_type": "code",
   "execution_count": 24,
   "metadata": {},
   "outputs": [
    {
     "name": "stdout",
     "output_type": "stream",
     "text": [
      "/Users/danielnickas/QTM350/qtm350/assignments\n"
     ]
    }
   ],
   "source": []
  },
  {
   "cell_type": "code",
   "execution_count": 31,
   "metadata": {},
   "outputs": [
    {
     "name": "stdout",
     "output_type": "stream",
     "text": [
      "zsh:1: command not found: gh\n"
     ]
    }
   ],
   "source": []
  },
  {
   "cell_type": "markdown",
   "metadata": {},
   "source": [
    "3. Use Copilot to refactor the following code to improve its efficiency and readability:\n",
    "\n",
    "```python\n",
    "def is_prime(num):\n",
    "  if num <= 1:\n",
    "    return False\n",
    "  for i in range(2, int(num**0.5) + 1):\n",
    "    if num % i == 0:\n",
    "      return False\n",
    "  return True\n",
    "\n",
    "primes = [i for i in range(2, 101) if is_prime(i)]\n",
    "\n",
    "print(primes)\n",
    "```\n",
    "\n"
   ]
  },
  {
   "cell_type": "markdown",
   "metadata": {},
   "source": [
    "4. Use the `@terminal` command to generate CLI commands that create a new directory named `data_analysis`, navigate into the directory, create a new Python file called `analysis.py`, and add a shebang line (`#!/usr/bin/env python`) at the top of the file.\n"
   ]
  },
  {
   "cell_type": "code",
   "execution_count": 33,
   "metadata": {},
   "outputs": [
    {
     "name": "stdout",
     "output_type": "stream",
     "text": [
      "mkdir: data_analysis: File exists\n"
     ]
    }
   ],
   "source": [
    "# Create a new directory named 'data_analysis'\n",
    "!mkdir data_analysis\n",
    "\n",
    "# Navigate into the directory\n",
    "!cd data_analysis\n",
    "\n",
    "# Create a new Python file called 'analysis.py'\n",
    "!touch analysis.py\n",
    "\n",
    "# Add the shebang line at the top of the file\n",
    "!echo '#!/usr/bin/env python' > analysis.py\n"
   ]
  },
  {
   "cell_type": "markdown",
   "metadata": {},
   "source": [
    "5. Write a Python function that calculates the factorial of a number. Deliberately introduce an error in the function, then use Copilot's `/fix` command to identify and correct the issue."
   ]
  },
  {
   "cell_type": "code",
   "execution_count": 35,
   "metadata": {},
   "outputs": [],
   "source": [
    "def factorial(n):\n",
    "    if n == 0:\n",
    "        return 1\n",
    "    else:\n",
    "        return n * factorial(n-1)\n",
    "        "
   ]
  },
  {
   "cell_type": "code",
   "execution_count": 37,
   "metadata": {},
   "outputs": [
    {
     "data": {
      "text/plain": [
       "'/fix'"
      ]
     },
     "execution_count": 37,
     "metadata": {},
     "output_type": "execute_result"
    }
   ],
   "source": [
    "# Fixed version\n",
    "def factorial(n):\n",
    "    if n <= 0:\n",
    "        return \"Error: Factorial is not defined for non-positive numbers.\"\n",
    "    elif n == 0:\n",
    "        return 1\n",
    "    else:\n",
    "        return n * factorial(n-1)"
   ]
  },
  {
   "cell_type": "markdown",
   "metadata": {},
   "source": [
    "6. Use Copilot to generate documentation comments for the following `R` factorial function:\n",
    "\n",
    "```r\n",
    "calculate_factorial <- function(n) {\n",
    "  if (n == 0) {\n",
    "    return(1)\n",
    "  } else {\n",
    "    return(n * calculate_factorial(n - 1))\n",
    "  }\n",
    "}\n",
    "\"\"\"\n",
    "Calculate the factorial of a given number.\n",
    "\n",
    "Parameters:\n",
    "    n (int): The number to calculate the factorial for.\n",
    "\n",
    "Returns:\n",
    "    int: The factorial of the given number.\n",
    "\"\"\""
   ]
  },
  {
   "cell_type": "markdown",
   "metadata": {},
   "source": [
    "7. Use the `/explain` command to get an explanation for the following Python code snippet:\n",
    "\n",
    "```python\n",
    "def normalize_data(data):\n",
    "    min_val = min(data)\n",
    "    max_val = max(data)\n",
    "    return [(x - min_val) / (max_val - min_val) for x in data]\n",
    "```\n",
    "\n",
    "The min function is used to find the minimum value in the data list, and it is assigned to the variable min_val.\n",
    "\n",
    "The max function is used to find the maximum value in the data list, and it is assigned to the variable max_val.\n",
    "\n",
    "A list comprehension is used to iterate over each element x in the data list.\n",
    "\n",
    "For each element x, the expression (x - min_val) / (max_val - min_val) is evaluated. \n",
    "\n",
    "This expression calculates the normalized value of x by subtracting the minimum value from x and dividing it by the difference between the maximum and minimum values.\n",
    "\n",
    "The resulting normalized value is added to a new list.\n",
    "\n",
    "Finally, the new list containing the normalized values is returned as the result of the function.\n",
    "\n",
    "This code snippet demonstrates a common technique for normalizing data, which is often used in machine learning and data analysis tasks. By scaling the data between 0 and 1, it ensures that all values are on the same scale, making it easier to compare and analyze the data."
   ]
  },
  {
   "cell_type": "markdown",
   "metadata": {},
   "source": [
    "8. Ask Copilot to translate the following `R` code to `Python`:\n",
    "\n",
    "```r\n",
    "library(tidyverse)\n",
    "\n",
    "# Create a sample dataframe with missing values\n",
    "df <- tibble(\n",
    "  A = c(1, 2, NA, 4, 5),\n",
    "  B = c(NA, 2, 3, 4, 5),\n",
    "  C = c(1, 2, 3, NA, 5),\n",
    "  D = c(1, 2, 3, 4, 5)\n",
    ")\n",
    "\n",
    "# Define the function\n",
    "count_missing_values <- function(df) {\n",
    "  sapply(df, function(col) sum(is.na(col)))\n",
    "}\n",
    "\n",
    "# Test the function\n",
    "result <- count_missing_values(df)\n",
    "print(result)\n",
    "```\n"
   ]
  },
  {
   "cell_type": "code",
   "execution_count": 40,
   "metadata": {},
   "outputs": [
    {
     "name": "stdout",
     "output_type": "stream",
     "text": [
      "A    1\n",
      "B    1\n",
      "C    1\n",
      "D    0\n",
      "dtype: int64\n"
     ]
    }
   ],
   "source": [
    "import pandas as pd\n",
    "# Create a sample dataframe with missing values\n",
    "df = pd.DataFrame({\n",
    "    'A': [1, 2, None, 4, 5],\n",
    "    'B': [None, 2, 3, 4, 5],\n",
    "    'C': [1, 2, 3, None, 5],\n",
    "    'D': [1, 2, 3, 4, 5]\n",
    "})\n",
    "\n",
    "# Define the function\n",
    "def count_missing_values(df):\n",
    "    return df.isna().sum()\n",
    "\n",
    "# Test the function\n",
    "result = count_missing_values(df)\n",
    "print(result)"
   ]
  },
  {
   "cell_type": "markdown",
   "metadata": {},
   "source": [
    "9. Write a function in both `R` and `Python` that takes a string and returns the number of vowels in the string.\n",
    "Outputs below:"
   ]
  },
  {
   "cell_type": "code",
   "execution_count": null,
   "metadata": {},
   "outputs": [],
   "source": [
    "\n",
    "count_vowels <- function(string) {\n",
    "    vowels <- c(\"a\", \"e\", \"i\", \"o\", \"u\")\n",
    "    count <- 0\n",
    "    for (char in strsplit(tolower(string), \"\")[[1]]) {\n",
    "        if (char %in% vowels) {\n",
    "            count <- count + 1\n",
    "        }\n",
    "    }\n",
    "    return(count)\n",
    "}"
   ]
  },
  {
   "cell_type": "code",
   "execution_count": 42,
   "metadata": {},
   "outputs": [],
   "source": [
    "def count_vowels(string):\n",
    "    vowels = ['a', 'e', 'i', 'o', 'u']\n",
    "    count = 0\n",
    "    for char in string:\n",
    "        if char.lower() in vowels:\n",
    "            count += 1\n",
    "    return count"
   ]
  },
  {
   "cell_type": "markdown",
   "metadata": {},
   "source": [
    "10. Ask Copilot to translate the following binary code into text:\n",
    "\n",
    "```verbatim\n",
    "01011001 01101111 01110101 00100111 01110110 01100101 00100000 01100011 01101111 01101101 01110000 01101100 01100101 01110100 01100101 01100100 00100000 01110100 01101000 01100101 00100000 01100001 01110011 01110011 01101001 01100111 01101110 01101101 01100101 01101110 01110100 00101110 00100000 01000011 01101111 01101110 01100111 01110010 01100001 01110100 01110101 01101100 01100001 01110100 01101001 01101111 01101110 01110011 00100001\n",
    "```\n",
    "Output: \"You've completed the assignment. Congratulations!\""
   ]
  }
 ],
 "metadata": {
  "kernelspec": {
   "display_name": "base",
   "language": "python",
   "name": "python3"
  },
  "language_info": {
   "codemirror_mode": {
    "name": "ipython",
    "version": 3
   },
   "file_extension": ".py",
   "mimetype": "text/x-python",
   "name": "python",
   "nbconvert_exporter": "python",
   "pygments_lexer": "ipython3",
   "version": "3.11.5"
  }
 },
 "nbformat": 4,
 "nbformat_minor": 2
}
